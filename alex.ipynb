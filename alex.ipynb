{
 "cells": [
  {
   "cell_type": "code",
   "execution_count": null,
   "metadata": {},
   "outputs": [],
   "source": [
    "import h5py\n",
    "import pylab as pl\n",
    "\n",
    "#leemos el archivo\n",
    "f1 = h5py.File('electromiograma/brazo/alex/MOVER BRAZO ALEX.h5')[\"84:BA:20:5E:FF:67\"][\"raw\"][\"channel_1\"]\n",
    "\n",
    "#graficamos\n",
    "pl.plot(f1)\n",
    "pl.xlim(100,600)"
   ]
  }
 ],
 "metadata": {
  "language_info": {
   "name": "python"
  }
 },
 "nbformat": 4,
 "nbformat_minor": 2
}
